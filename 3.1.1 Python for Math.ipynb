{
 "cells": [
  {
   "cell_type": "markdown",
   "id": "6dcb2983-04b2-48d6-9464-7c326df60934",
   "metadata": {},
   "source": [
    "Using Python as a Calculator"
   ]
  },
  {
   "cell_type": "code",
   "execution_count": 7,
   "id": "cab7b4e2-d54b-4502-9f60-319462e44039",
   "metadata": {},
   "outputs": [
    {
     "data": {
      "text/plain": [
       "4"
      ]
     },
     "execution_count": 7,
     "metadata": {},
     "output_type": "execute_result"
    }
   ],
   "source": [
    "# Addition\n",
    "2+2"
   ]
  },
  {
   "cell_type": "code",
   "execution_count": 8,
   "id": "f3aca980-ba79-41d9-a4ea-3059f499f826",
   "metadata": {},
   "outputs": [
    {
     "data": {
      "text/plain": [
       "20"
      ]
     },
     "execution_count": 8,
     "metadata": {},
     "output_type": "execute_result"
    }
   ],
   "source": [
    "# Mixed Operators\n",
    "50 -5*6"
   ]
  },
  {
   "cell_type": "code",
   "execution_count": 9,
   "id": "b051f4f0-58da-4d8a-9da3-80f794f2690a",
   "metadata": {},
   "outputs": [
    {
     "data": {
      "text/plain": [
       "5.0"
      ]
     },
     "execution_count": 9,
     "metadata": {},
     "output_type": "execute_result"
    }
   ],
   "source": [
    "# More Mixed Operators\n",
    "(50- 5*6) /4"
   ]
  },
  {
   "cell_type": "code",
   "execution_count": 10,
   "id": "755139dd-0a24-4358-beaa-42369dd0836b",
   "metadata": {},
   "outputs": [
    {
     "data": {
      "text/plain": [
       "1.6"
      ]
     },
     "execution_count": 10,
     "metadata": {},
     "output_type": "execute_result"
    }
   ],
   "source": [
    "# Division always returns a floating-point number\n",
    "8/5"
   ]
  },
  {
   "cell_type": "markdown",
   "id": "1803018d-6412-4a99-8790-fc0958ed9ffe",
   "metadata": {},
   "source": [
    "More on Division"
   ]
  },
  {
   "cell_type": "code",
   "execution_count": 11,
   "id": "2429c7b0-afa9-4761-bdf1-5f80de4eae02",
   "metadata": {},
   "outputs": [
    {
     "data": {
      "text/plain": [
       "5.666666666666667"
      ]
     },
     "execution_count": 11,
     "metadata": {},
     "output_type": "execute_result"
    }
   ],
   "source": [
    "# Classic division operation returns a float\n",
    "17 / 3"
   ]
  },
  {
   "cell_type": "code",
   "execution_count": 12,
   "id": "4a0f79f9-f1b9-46ff-a498-1b7696eb05c1",
   "metadata": {},
   "outputs": [
    {
     "data": {
      "text/plain": [
       "5"
      ]
     },
     "execution_count": 12,
     "metadata": {},
     "output_type": "execute_result"
    }
   ],
   "source": [
    "# This is a Floor division operation that discards the fractional part\n",
    "17 // 3"
   ]
  },
  {
   "cell_type": "code",
   "execution_count": 14,
   "id": "7dea3c59-1693-4744-b5c3-db3c09969a23",
   "metadata": {},
   "outputs": [
    {
     "data": {
      "text/plain": [
       "2"
      ]
     },
     "execution_count": 14,
     "metadata": {},
     "output_type": "execute_result"
    }
   ],
   "source": [
    "# The % operator returns the remainder oif the division\n",
    "17 % 3"
   ]
  },
  {
   "cell_type": "code",
   "execution_count": 15,
   "id": "1a777839-309d-4195-8c07-98eaa899909d",
   "metadata": {},
   "outputs": [
    {
     "data": {
      "text/plain": [
       "17"
      ]
     },
     "execution_count": 15,
     "metadata": {},
     "output_type": "execute_result"
    }
   ],
   "source": [
    "# The floored quotient * Divisor + Remainder\n",
    "5 * 3 + 2"
   ]
  },
  {
   "cell_type": "markdown",
   "id": "8a24f9e5-bef3-459f-8977-188adced59f7",
   "metadata": {},
   "source": [
    "Exponents"
   ]
  },
  {
   "cell_type": "code",
   "execution_count": 16,
   "id": "d7769ae1-ab20-475c-b4d3-8991c3062cdb",
   "metadata": {},
   "outputs": [
    {
     "data": {
      "text/plain": [
       "25"
      ]
     },
     "execution_count": 16,
     "metadata": {},
     "output_type": "execute_result"
    }
   ],
   "source": [
    "# % squared\n",
    "5 ** 2"
   ]
  },
  {
   "cell_type": "code",
   "execution_count": 18,
   "id": "c0aa15db-5dc5-4d95-85e7-05158e8d2076",
   "metadata": {},
   "outputs": [
    {
     "data": {
      "text/plain": [
       "128"
      ]
     },
     "execution_count": 18,
     "metadata": {},
     "output_type": "execute_result"
    }
   ],
   "source": [
    "# 2 to the power of 7\n",
    "2 ** 7"
   ]
  },
  {
   "cell_type": "markdown",
   "id": "78c0d77e-1069-44d9-b1e5-877fdbe16865",
   "metadata": {},
   "source": [
    "Assigning a value to a variable"
   ]
  },
  {
   "cell_type": "code",
   "execution_count": 19,
   "id": "a99f38ec-0aca-4d87-85b9-f303dad0a615",
   "metadata": {},
   "outputs": [
    {
     "data": {
      "text/plain": [
       "900"
      ]
     },
     "execution_count": 19,
     "metadata": {},
     "output_type": "execute_result"
    }
   ],
   "source": [
    "width = 20\n",
    "height = 5*9\n",
    "width * height"
   ]
  },
  {
   "cell_type": "markdown",
   "id": "8aa5891e-29a0-40e4-bf31-d9cbccfb09e0",
   "metadata": {},
   "source": [
    "Note: If the variable is not defined, it will give you an error if you try to use it"
   ]
  }
 ],
 "metadata": {
  "kernelspec": {
   "display_name": "Python 3 (ipykernel)",
   "language": "python",
   "name": "python3"
  },
  "language_info": {
   "codemirror_mode": {
    "name": "ipython",
    "version": 3
   },
   "file_extension": ".py",
   "mimetype": "text/x-python",
   "name": "python",
   "nbconvert_exporter": "python",
   "pygments_lexer": "ipython3",
   "version": "3.9.13"
  }
 },
 "nbformat": 4,
 "nbformat_minor": 5
}
